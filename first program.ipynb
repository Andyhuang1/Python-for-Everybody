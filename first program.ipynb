{
 "cells": [
  {
   "cell_type": "code",
   "execution_count": 1,
   "metadata": {},
   "outputs": [
    {
     "name": "stdin",
     "output_type": "stream",
     "text": [
      "Europe floor 1\n",
      "china floor 2\n"
     ]
    },
    {
     "name": "stdout",
     "output_type": "stream",
     "text": [
      "US floor 4\n"
     ]
    }
   ],
   "source": [
    "inp = input('Europe floor')\n",
    "ins = input('china floor')\n",
    "usf = int(inp) + int(ins) + 1\n",
    "print('US floor', usf)"
   ]
  },
  {
   "cell_type": "code",
   "execution_count": 2,
   "metadata": {},
   "outputs": [
    {
     "name": "stdin",
     "output_type": "stream",
     "text": [
      "do you love study, yes 1 or no 2 1\n"
     ]
    },
    {
     "name": "stdout",
     "output_type": "stream",
     "text": [
      "good\n"
     ]
    }
   ],
   "source": [
    "a = input('do you love study, yes 1 or no 2')\n",
    "b = int(a)\n",
    "if b == 1:\n",
    "    print('good')\n",
    "else:\n",
    "    print('study')"
   ]
  },
  {
   "cell_type": "code",
   "execution_count": 4,
   "metadata": {},
   "outputs": [
    {
     "name": "stdout",
     "output_type": "stream",
     "text": [
      "Smaller\n",
      "Finis\n"
     ]
    }
   ],
   "source": [
    "x =5\n",
    "if x < 10:\n",
    "    print('Smaller')\n",
    "if x > 20:\n",
    "    print('Bigger')\n",
    "print('Finis')"
   ]
  },
  {
   "cell_type": "code",
   "execution_count": 18,
   "metadata": {},
   "outputs": [
    {
     "name": "stdout",
     "output_type": "stream",
     "text": [
      "0\n",
      "Done with i 0\n",
      "1\n",
      "Done with i 1\n",
      "2\n",
      "Done with i 2\n",
      "3\n",
      "Bigger than 2 \n",
      "Done with i 3\n",
      "4\n",
      "Bigger than 2 \n",
      "Done with i 4\n",
      "All Done\n"
     ]
    }
   ],
   "source": [
    "for i in range(5):\n",
    "    print(i)\n",
    "    if i > 2:\n",
    "        print('Bigger than 2 ')\n",
    "    print('Done with i', i)\n",
    "print('All Done')"
   ]
  },
  {
   "cell_type": "code",
   "execution_count": 20,
   "metadata": {},
   "outputs": [
    {
     "name": "stdout",
     "output_type": "stream",
     "text": [
      "Bigger\n",
      "All Done\n"
     ]
    }
   ],
   "source": [
    "x = 4\n",
    "if x > 2:\n",
    "    print('Bigger')\n",
    "else:\n",
    "    print('Not bigger')\n",
    "print('All Done')"
   ]
  },
  {
   "cell_type": "code",
   "execution_count": 29,
   "metadata": {},
   "outputs": [
    {
     "name": "stdout",
     "output_type": "stream",
     "text": [
      "large\n",
      "all done\n"
     ]
    }
   ],
   "source": [
    "y = 1\n",
    "if y < 2:\n",
    "    print('small')\n",
    "elif y < 10:\n",
    "    print('medium')\n",
    "else:\n",
    "    print('large')\n",
    "print('all done')"
   ]
  },
  {
   "cell_type": "code",
   "execution_count": null,
   "metadata": {},
   "outputs": [],
   "source": [
    "z = 11\n",
    "if z < 2:\n",
    "    print('small')\n",
    "elif z < 10:\n",
    "    print('medium')\n",
    "\n",
    "print('all done')"
   ]
  },
  {
   "cell_type": "code",
   "execution_count": 2,
   "metadata": {},
   "outputs": [
    {
     "name": "stdin",
     "output_type": "stream",
     "text": [
      "input x 2\n"
     ]
    },
    {
     "name": "stdout",
     "output_type": "stream",
     "text": [
      "two or more\n"
     ]
    }
   ],
   "source": [
    "ip = input('input x')\n",
    "a = int(ip)\n",
    "if a < 2:\n",
    "    print('Below 2')\n",
    "elif a >= 2:\n",
    "    print('two or more')\n",
    "else:\n",
    "    print('something else')"
   ]
  },
  {
   "cell_type": "code",
   "execution_count": 5,
   "metadata": {},
   "outputs": [
    {
     "name": "stdin",
     "output_type": "stream",
     "text": [
      "input x 9\n"
     ]
    },
    {
     "name": "stdout",
     "output_type": "stream",
     "text": [
      "below 10\n"
     ]
    }
   ],
   "source": [
    "ip = input('input x')\n",
    "b = int(ip)\n",
    "if b < 2:\n",
    "    print('Below 2')\n",
    "elif b < 10:\n",
    "    print('below 10')\n",
    "elif b < 20:\n",
    "    print('below 20')\n",
    "else:\n",
    "    print('something else')"
   ]
  },
  {
   "cell_type": "code",
   "execution_count": 9,
   "metadata": {},
   "outputs": [
    {
     "name": "stdout",
     "output_type": "stream",
     "text": [
      "Hello\n",
      "Done -1\n"
     ]
    }
   ],
   "source": [
    "astr = 'Bob'\n",
    "try:\n",
    "    print('Hello')\n",
    "    istr = int(astr)\n",
    "    print('There')\n",
    "except:\n",
    "    istr = -1\n",
    "    \n",
    "print('Done', istr)"
   ]
  },
  {
   "cell_type": "code",
   "execution_count": 13,
   "metadata": {},
   "outputs": [
    {
     "name": "stdin",
     "output_type": "stream",
     "text": [
      "Enter a number: 558\n"
     ]
    },
    {
     "name": "stdout",
     "output_type": "stream",
     "text": [
      "nice work 558\n"
     ]
    }
   ],
   "source": [
    "rawstr = input('Enter a number:')\n",
    "try:\n",
    "    ival = int(rawstr)\n",
    "except:\n",
    "    ival = -1\n",
    "\n",
    "if ival > 0:\n",
    "    print('nice work', ival)\n",
    "else:\n",
    "    print('not a number')"
   ]
  },
  {
   "cell_type": "code",
   "execution_count": 15,
   "metadata": {},
   "outputs": [],
   "source": [
    "astr = '123'\n",
    "istr = int(astr)"
   ]
  },
  {
   "cell_type": "code",
   "execution_count": null,
   "metadata": {},
   "outputs": [],
   "source": []
  }
 ],
 "metadata": {
  "kernelspec": {
   "display_name": "Python 3 (ipykernel)",
   "language": "python",
   "name": "python3"
  },
  "language_info": {
   "codemirror_mode": {
    "name": "ipython",
    "version": 3
   },
   "file_extension": ".py",
   "mimetype": "text/x-python",
   "name": "python",
   "nbconvert_exporter": "python",
   "pygments_lexer": "ipython3",
   "version": "3.8.17"
  }
 },
 "nbformat": 4,
 "nbformat_minor": 4
}
